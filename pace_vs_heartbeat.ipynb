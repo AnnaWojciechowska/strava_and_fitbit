{
 "cells": [
  {
   "cell_type": "code",
   "execution_count": 1,
   "id": "wired-disclaimer",
   "metadata": {},
   "outputs": [
    {
     "name": "stderr",
     "output_type": "stream",
     "text": [
      "2021-06-28 18:50:49.435 | INFO     | stravaio:strava_oauth2:343 - serving at port 8000\n",
      "2021-06-28 18:50:52.085 | DEBUG    | stravaio:run_server_and_wait_for_token:397 - code: 41eca40dae670be920cf175e6e441de0deeb2733\n",
      "2021-06-28 18:50:52.699 | DEBUG    | stravaio:run_server_and_wait_for_token:406 - Authorized athlete: 82d5dcc98eac153519d5ef5df8abd62a38c8e2b1\n"
     ]
    }
   ],
   "source": [
    "from stravaio import StravaIO\n",
    "from stravaio import strava_oauth2\n",
    "import requests\n",
    "import json\n",
    "\n",
    "with open('strava_ids.json','r') as f:\n",
    "    strava_data = json.loads(f.read())\n",
    "\n",
    "strava_auth_data = strava_oauth2(strava_data['client_id'], strava_data['client_secret'])\n",
    "strava_client = StravaIO(strava_auth_data['access_token'])    "
   ]
  },
  {
   "cell_type": "code",
   "execution_count": 2,
   "id": "alternative-nashville",
   "metadata": {},
   "outputs": [],
   "source": [
    "activity_id = 5518106799\n",
    "headers = {\"Authorization\": \"Bearer {access_token}\".format(access_token = strava_auth_data['access_token'])}\n",
    "activity_url = 'https://www.strava.com/api/v3/activities/{activity_id}?include_all_efforts'.format(activity_id = activity_id)\n",
    "response = requests.get(activity_url,headers=headers)\n",
    "activity_dict = json.loads(response.text)\n",
    "\n",
    "#distance data stream\n",
    "url = 'https://www.strava.com/api/v3/activities/{activity_id}/streams?'.format(activity_id = activity_id)\n",
    "response = requests.get(url,headers=headers)\n",
    "#print(response)\n",
    "#print(response.text)\n",
    "distance_dict = json.loads(response.text[1:len(response.text)-1])\n",
    "distance_data = distance_dict['data']\n",
    "\n",
    "#time data stream\n",
    "url = 'https://www.strava.com/api/v3/activities/{activity_id}/streams?&type=time&series_type=time'.format(activity_id = activity_id)\n",
    "response = requests.get(url,headers=headers)\n",
    "#print(response)\n",
    "time_dict = json.loads(response.text[1:len(response.text)-1])\n",
    "time_data = time_dict['data']"
   ]
  },
  {
   "cell_type": "code",
   "execution_count": 3,
   "id": "marine-andrews",
   "metadata": {},
   "outputs": [
    {
     "name": "stdout",
     "output_type": "stream",
     "text": [
      "29\n"
     ]
    }
   ],
   "source": [
    "import pandas as pd\n",
    "from datetime import datetime, timedelta\n",
    "df = pd.DataFrame({'time':time_data, 'distance': distance_data})\n",
    "df['time_diff'] = df['time'].shift(-1) - df['time']\n",
    "df['dist_diff'] = df['distance'].shift(-1) - df['distance']\n",
    "\n",
    "start_time_str = activity_dict['start_date_local']\n",
    "start_time = datetime.strptime(start_time_str, '%Y-%m-%dT%H:%M:%SZ')\n",
    "\n",
    "total_dist = delta_dist = delta_time = i = 0\n",
    "timestamps, pace ,distance = ([],[],[])\n",
    "elapsed_time = start_time\n",
    "\n",
    "for row in df.iterrows():\n",
    "    delta_dist += row[1][3]\n",
    "    delta_time += row[1][2]\n",
    "    if delta_dist >= 100:\n",
    "        elapsed_time += timedelta(seconds=delta_time)\n",
    "        timestamps.append(elapsed_time)\n",
    "        pace.append(delta_time/60)\n",
    "        distance.append(total_dist + delta_dist)\n",
    "        i += 1\n",
    "        delta_dist = delta_time = 0\n",
    "       \n",
    "print(i)  "
   ]
  },
  {
   "cell_type": "code",
   "execution_count": 4,
   "id": "universal-professor",
   "metadata": {},
   "outputs": [
    {
     "name": "stderr",
     "output_type": "stream",
     "text": [
      "[28/Jun/2021:18:51:07] ENGINE Listening for SIGTERM.\n",
      "[28/Jun/2021:18:51:07] ENGINE Listening for SIGHUP.\n",
      "[28/Jun/2021:18:51:07] ENGINE Listening for SIGUSR1.\n",
      "[28/Jun/2021:18:51:07] ENGINE Bus STARTING\n",
      "CherryPy Checker:\n",
      "The Application mounted at '' has an empty config.\n",
      "\n",
      "[28/Jun/2021:18:51:07] ENGINE Started monitor thread 'Autoreloader'.\n",
      "[28/Jun/2021:18:51:07] ENGINE Serving on http://127.0.0.1:8080\n",
      "[28/Jun/2021:18:51:07] ENGINE Bus STARTED\n"
     ]
    },
    {
     "name": "stdout",
     "output_type": "stream",
     "text": [
      "127.0.0.1 - - [28/Jun/2021:18:51:09] \"GET /?code=a5352a3893c1d4d331e64aa97d06e5afeb604c0a&state=BBLqfAvwOhhkfaKDZmCFi5vblW6E5d HTTP/1.1\" 200 122 \"\" \"Mozilla/5.0 (X11; Linux x86_64) AppleWebKit/537.36 (KHTML, like Gecko) Chrome/89.0.4389.90 Safari/537.36\"\n"
     ]
    },
    {
     "name": "stderr",
     "output_type": "stream",
     "text": [
      "[28/Jun/2021:18:51:10] ENGINE Bus STOPPING\n",
      "[28/Jun/2021:18:51:10] ENGINE HTTP Server cherrypy._cpwsgi_server.CPWSGIServer(('127.0.0.1', 8080)) shut down\n",
      "[28/Jun/2021:18:51:10] ENGINE Stopped thread 'Autoreloader'.\n",
      "[28/Jun/2021:18:51:10] ENGINE Bus STOPPED\n",
      "[28/Jun/2021:18:51:10] ENGINE Bus EXITING\n",
      "[28/Jun/2021:18:51:10] ENGINE Bus EXITED\n",
      "[28/Jun/2021:18:51:10] ENGINE Waiting for child threads to terminate...\n"
     ]
    }
   ],
   "source": [
    "from oauth_server import OAuth2Server\n",
    "import fitbit\n",
    "with open('fitbit_ids.json','r') as f:\n",
    "    fitbit_data = json.loads(f.read())\n",
    "fitbit_oauthserver = OAuth2Server(fitbit_data['client_id'], fitbit_data['client_secret'])\n",
    "fitbit_oauthserver.browser_authorize()"
   ]
  },
  {
   "cell_type": "code",
   "execution_count": 5,
   "id": "protecting-catalyst",
   "metadata": {},
   "outputs": [],
   "source": [
    "client = fitbit.Fitbit(fitbit_data['client_id'], fitbit_data['client_secret'],\n",
    "         access_token = fitbit_oauthserver.fitbit.client.session.token['access_token'],\n",
    "         refresh_token = fitbit_oauthserver.fitbit.client.session.token['refresh_token'])\n",
    "\n",
    "heart_url =  \"https://api.fitbit.com/1.2/user/-/activities/heart/date/{date}/1d/1sec.json\".format(date = start_time.strftime(\"%Y-%m-%d\"))\n",
    "fitbit_hr_data = client.make_request(heart_url)\n",
    "heart_data = fitbit_hr_data['activities-heart-intraday']\n",
    "hr_dataset = heart_data['dataset']\n",
    "hr_times, hb_values = ([],[])\n",
    "\n",
    "end_time = start_time + timedelta(seconds = activity_dict['elapsed_time'])    \n",
    "for h in hr_dataset:\n",
    "    date_time_obj = datetime.strptime(h['time'], '%H:%M:%S')\n",
    "    date_time_obj = date_time_obj.replace(year=start_time.year, month=start_time.month, day = start_time.day)\n",
    "    if date_time_obj > start_time and date_time_obj < end_time:\n",
    "        hr_times.append(date_time_obj)\n",
    "        hb_values.append(h['value'])\n",
    "       "
   ]
  },
  {
   "cell_type": "code",
   "execution_count": 6,
   "id": "brave-purpose",
   "metadata": {},
   "outputs": [],
   "source": [
    "from bokeh.plotting import figure, output_file, show\n",
    "from bokeh.models import LinearAxis, Range1d\n",
    "from bokeh.models import HoverTool\n",
    "\n",
    "from math import pi\n",
    "chart_red = '#f45666'\n",
    "chart_blue = '#4292c6'\n",
    "\n",
    "chart_tools=\"tap, crosshair, wheel_zoom,zoom_in,zoom_out\"\n",
    "\n",
    "p = figure(title=\"swimming pace vs heart beat\", \n",
    "           x_axis_type=\"datetime\", x_axis_label='time', \n",
    "           y_axis_label = 'pace [min/100m]', y_range=(2, 8),\n",
    "           toolbar_location=\"below\",tools=chart_tools)\n",
    "p.yaxis.axis_line_color = chart_blue\n",
    "p.yaxis.major_tick_line_color = chart_blue\n",
    "p.yaxis.minor_tick_line_color = chart_blue\n",
    "\n",
    "p.add_tools(HoverTool(\n",
    "    tooltips=[('time', '$x{%H:%M:%S}'),\n",
    "              (\"value\", \"$y{0.00}\")],\n",
    "    formatters={'$x':\"datetime\"}\n",
    "))\n",
    "\n",
    "#pace\n",
    "p.line(timestamps,pace,  color = chart_blue)\n",
    "\n",
    "#heartbeat\n",
    "p.extra_y_ranges = {\"heart_beat\": Range1d(start=60, end=150),}\n",
    "\n",
    "# axis_label_text_color or major_label_text_color\n",
    "p.add_layout(LinearAxis(y_range_name=\"heart_beat\", \n",
    "                        axis_label=\"hear beat [bpm]\", \n",
    "                        axis_line_color = chart_red,\n",
    "                        major_tick_line_color = chart_red,\n",
    "                        minor_tick_line_color = chart_red),\n",
    "                        'right')\n",
    "p.scatter(hr_times, hb_values, color = chart_red, y_range_name=\"heart_beat\")\n",
    "\n",
    "\n",
    "output_file(\"pace_vs_heartbit.html\", title=\"swimming pace vs heartbeat\")\n",
    "show(p)  "
   ]
  },
  {
   "cell_type": "code",
   "execution_count": null,
   "id": "common-agreement",
   "metadata": {},
   "outputs": [],
   "source": []
  }
 ],
 "metadata": {
  "kernelspec": {
   "display_name": "Python 3",
   "language": "python",
   "name": "python3"
  },
  "language_info": {
   "codemirror_mode": {
    "name": "ipython",
    "version": 3
   },
   "file_extension": ".py",
   "mimetype": "text/x-python",
   "name": "python",
   "nbconvert_exporter": "python",
   "pygments_lexer": "ipython3",
   "version": "3.8.5"
  }
 },
 "nbformat": 4,
 "nbformat_minor": 5
}
