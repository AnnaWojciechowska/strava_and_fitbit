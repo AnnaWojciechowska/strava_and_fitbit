{
 "cells": [
  {
   "cell_type": "code",
   "execution_count": 1,
   "id": "wired-disclaimer",
   "metadata": {},
   "outputs": [
    {
     "name": "stderr",
     "output_type": "stream",
     "text": [
      "2021-06-30 17:50:28.915 | INFO     | stravaio:strava_oauth2:343 - serving at port 8000\n",
      "2021-06-30 17:50:31.253 | DEBUG    | stravaio:run_server_and_wait_for_token:397 - code: 66044af687b605389c234afbca529489ea138c62\n",
      "2021-06-30 17:50:31.777 | DEBUG    | stravaio:run_server_and_wait_for_token:406 - Authorized athlete: 6472d7dbe2f70e7fc5ff791b59faa76b95208590\n"
     ]
    }
   ],
   "source": [
    "from stravaio import StravaIO\n",
    "from stravaio import strava_oauth2\n",
    "import requests\n",
    "\n",
    "import json\n",
    "import pandas as pd\n",
    "import numpy as np\n",
    "\n",
    "from datetime import datetime\n",
    "from datetime import timedelta\n",
    "\n",
    "\n",
    "with open('strava_ids.json','r') as f:\n",
    "    strava_data = json.loads(f.read())\n",
    "\n",
    "strava_auth_data = strava_oauth2(strava_data['client_id'], strava_data['client_secret'])\n",
    "strava_client = StravaIO(strava_auth_data['access_token'])    "
   ]
  },
  {
   "cell_type": "code",
   "execution_count": 2,
   "id": "casual-conversation",
   "metadata": {},
   "outputs": [],
   "source": [
    "activity_id = 5518106799\n",
    "headers = {\"Authorization\": \"Bearer {access_token}\".format(access_token = strava_auth_data['access_token'])}\n",
    "activity_url = 'https://www.strava.com/api/v3/activities/{activity_id}?include_all_efforts'.format(activity_id = activity_id)\n",
    "response = requests.get(activity_url,headers=headers)\n",
    "activity_dict = json.loads(response.text)\n",
    "\n",
    "#distance data stream\n",
    "url = 'https://www.strava.com/api/v3/activities/{activity_id}/streams?'.format(activity_id = activity_id)\n",
    "response = requests.get(url,headers=headers)\n",
    "#print(response)\n",
    "#print(response.text)\n",
    "distance_dict = json.loads(response.text[1:len(response.text)-1])\n",
    "strava_df = pd.DataFrame(distance_dict['data'], columns =['distance'])\n",
    "\n",
    "#time data stream\n",
    "url = 'https://www.strava.com/api/v3/activities/{activity_id}/streams?&type=time&series_type=time'.format(activity_id = activity_id)\n",
    "response = requests.get(url,headers=headers)\n",
    "#print(response)\n",
    "time_dict = json.loads(response.text[1:len(response.text)-1])\n",
    "strava_df['time'] = time_dict['data']"
   ]
  },
  {
   "cell_type": "code",
   "execution_count": 3,
   "id": "marine-andrews",
   "metadata": {},
   "outputs": [
    {
     "name": "stdout",
     "output_type": "stream",
     "text": [
      "29\n"
     ]
    }
   ],
   "source": [
    "strava_df['time_diff'] = strava_df['time'].shift(-1) - strava_df['time']\n",
    "strava_df['dist_diff'] = strava_df['distance'].shift(-1) - strava_df['distance']\n",
    "\n",
    "start_time_str = activity_dict['start_date_local']\n",
    "start_time = datetime.strptime(start_time_str, '%Y-%m-%dT%H:%M:%SZ')\n",
    "\n",
    "total_dist = strava_df.iloc[0].distance\n",
    "\n",
    "delta_dist = delta_time = i = 0\n",
    "elapsed_time = start_time\n",
    "\n",
    "strava_df['pace'] = np.nan\n",
    "strava_df['total_distance'] = np.nan\n",
    "strava_df['timestamp'] = np.nan\n",
    "\n",
    "i = 0\n",
    "for idx, row in strava_df.iterrows():\n",
    "    delta_dist += row['dist_diff']\n",
    "    delta_time += row['time_diff']\n",
    "    if delta_dist >= 100:\n",
    "        elapsed_time += timedelta(seconds=delta_time)\n",
    "        strava_df.loc[idx, 'timestamp'] = elapsed_time\n",
    "        strava_df.loc[idx, 'pace'] = delta_time/60\n",
    "        total_dist += delta_dist\n",
    "        strava_df.loc[idx, 'total_distance'] = total_dist    \n",
    "        i += 1\n",
    "        delta_dist = delta_time = 0\n",
    "       \n",
    "strava_df = strava_df.dropna()\n",
    "print(i)  "
   ]
  },
  {
   "cell_type": "code",
   "execution_count": 4,
   "id": "universal-professor",
   "metadata": {},
   "outputs": [
    {
     "name": "stderr",
     "output_type": "stream",
     "text": [
      "[30/Jun/2021:17:50:41] ENGINE Listening for SIGTERM.\n",
      "[30/Jun/2021:17:50:41] ENGINE Listening for SIGHUP.\n",
      "[30/Jun/2021:17:50:41] ENGINE Listening for SIGUSR1.\n",
      "[30/Jun/2021:17:50:41] ENGINE Bus STARTING\n",
      "CherryPy Checker:\n",
      "The Application mounted at '' has an empty config.\n",
      "\n",
      "[30/Jun/2021:17:50:41] ENGINE Started monitor thread 'Autoreloader'.\n",
      "[30/Jun/2021:17:50:41] ENGINE Serving on http://127.0.0.1:8080\n",
      "[30/Jun/2021:17:50:41] ENGINE Bus STARTED\n"
     ]
    },
    {
     "name": "stdout",
     "output_type": "stream",
     "text": [
      "127.0.0.1 - - [30/Jun/2021:17:50:43] \"GET /?code=a2d7d3713be81e19a98010e775fee89a0cb4a143&state=r88GqSNrUVid5vpZKsFXYZy0sdxwDR HTTP/1.1\" 200 122 \"\" \"Mozilla/5.0 (X11; Linux x86_64) AppleWebKit/537.36 (KHTML, like Gecko) Chrome/89.0.4389.90 Safari/537.36\"\n"
     ]
    },
    {
     "name": "stderr",
     "output_type": "stream",
     "text": [
      "[30/Jun/2021:17:50:44] ENGINE Bus STOPPING\n",
      "[30/Jun/2021:17:50:44] ENGINE HTTP Server cherrypy._cpwsgi_server.CPWSGIServer(('127.0.0.1', 8080)) shut down\n",
      "[30/Jun/2021:17:50:44] ENGINE Stopped thread 'Autoreloader'.\n",
      "[30/Jun/2021:17:50:44] ENGINE Bus STOPPED\n",
      "[30/Jun/2021:17:50:44] ENGINE Bus EXITING\n",
      "[30/Jun/2021:17:50:44] ENGINE Bus EXITED\n",
      "[30/Jun/2021:17:50:44] ENGINE Waiting for child threads to terminate...\n"
     ]
    }
   ],
   "source": [
    "from oauth_server import OAuth2Server\n",
    "import fitbit\n",
    "with open('fitbit_ids.json','r') as f:\n",
    "    fitbit_data = json.loads(f.read())\n",
    "fitbit_oauthserver = OAuth2Server(fitbit_data['client_id'], fitbit_data['client_secret'])\n",
    "fitbit_oauthserver.browser_authorize()"
   ]
  },
  {
   "cell_type": "code",
   "execution_count": 5,
   "id": "transparent-verse",
   "metadata": {},
   "outputs": [],
   "source": [
    "client = fitbit.Fitbit(fitbit_data['client_id'], fitbit_data['client_secret'],\n",
    "         access_token = fitbit_oauthserver.fitbit.client.session.token['access_token'],\n",
    "         refresh_token = fitbit_oauthserver.fitbit.client.session.token['refresh_token'])\n",
    "\n",
    "heart_url =  \"https://api.fitbit.com/1.2/user/-/activities/heart/date/{date}/1d/1sec.json\".format(date = start_time.strftime(\"%Y-%m-%d\"))\n",
    "fitbit_hr_data = client.make_request(heart_url)\n",
    "heart_data = fitbit_hr_data['activities-heart-intraday']\n",
    "\n",
    "end_time = start_time + timedelta(seconds = activity_dict['elapsed_time'])  \n",
    "\n",
    "hb_df = pd.DataFrame(heart_data['dataset'])\n",
    "hb_df['time'] = pd.to_datetime(hb_df['time'])\n",
    "hb_df['time'] = hb_df['time'].apply(lambda x: x.replace(year=start_time.year, month=start_time.month, day = start_time.day))\n",
    "hb_df = hb_df[(hb_df['time'] > start_time) & (hb_df['time'] < end_time )]\n"
   ]
  },
  {
   "cell_type": "code",
   "execution_count": 6,
   "id": "accepting-surveillance",
   "metadata": {},
   "outputs": [],
   "source": [
    "from bokeh.plotting import figure, output_file, show\n",
    "from bokeh.models import LinearAxis, Range1d\n",
    "from bokeh.models import HoverTool\n",
    "from bokeh.models import ColumnDataSource\n",
    "\n",
    "from math import pi\n",
    "chart_red = '#f45666'\n",
    "chart_blue = '#4292c6'\n",
    "\n",
    "chart_tools=\"tap, crosshair, wheel_zoom,zoom_in,zoom_out\"\n",
    "\n",
    "\n",
    "\n",
    "p = figure(title=\"swimming pace vs heart beat\", \n",
    "           x_axis_type=\"datetime\", x_axis_label='time', \n",
    "           y_axis_label = 'pace [min/100m]', y_range=(2, 8),\n",
    "           toolbar_location=\"below\",tools=chart_tools)\n",
    "\n",
    "p.yaxis.axis_line_color = chart_blue\n",
    "p.yaxis.major_tick_line_color = chart_blue\n",
    "p.yaxis.minor_tick_line_color = chart_blue\n",
    "\n",
    "\n",
    "p.add_tools(HoverTool(\n",
    "    tooltips=[('time', '$x{%H:%M:%S}'),\n",
    "              (\"value\", \"$y{0.00}\")],\n",
    "    formatters={'$x':\"datetime\"}\n",
    "))\n",
    "\n",
    "#pace\n",
    "p.line(source = ColumnDataSource(strava_df),  x = 'timestamp', y = 'pace', color = chart_blue)\n",
    "\n",
    "#heartbeat\n",
    "p.extra_y_ranges = {\"heart_beat\": Range1d(start=60, end=150),}\n",
    "\n",
    "# axis_label_text_color or major_label_text_color\n",
    "p.add_layout(LinearAxis(y_range_name=\"heart_beat\", \n",
    "                        axis_label=\"hear beat [bpm]\", \n",
    "                        axis_line_color = chart_red,\n",
    "                        major_tick_line_color = chart_red,\n",
    "                        minor_tick_line_color = chart_red),\n",
    "                        'right')\n",
    "\n",
    "p.scatter(source = ColumnDataSource(hb_df),  x = 'time', y = 'value', color = chart_red, y_range_name=\"heart_beat\")\n",
    "\n",
    "output_file(\"pace_vs_heartbit.html\", title=\"swimming pace vs heartbeat\")\n",
    "show(p)  "
   ]
  }
 ],
 "metadata": {
  "kernelspec": {
   "display_name": "Python 3",
   "language": "python",
   "name": "python3"
  },
  "language_info": {
   "codemirror_mode": {
    "name": "ipython",
    "version": 3
   },
   "file_extension": ".py",
   "mimetype": "text/x-python",
   "name": "python",
   "nbconvert_exporter": "python",
   "pygments_lexer": "ipython3",
   "version": "3.8.5"
  }
 },
 "nbformat": 4,
 "nbformat_minor": 5
}
